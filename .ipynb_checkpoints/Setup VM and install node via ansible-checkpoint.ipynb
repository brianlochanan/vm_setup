{
 "cells": [
  {
   "cell_type": "markdown",
   "metadata": {},
   "source": [
    "First download and install Vagrant VM at: https://www.vagrantup.com/downloads.html "
   ]
  },
  {
   "cell_type": "markdown",
   "metadata": {},
   "source": [
    "After Vagrant is installed, run following code to setup VM (It can take a couple of minutes. Wait for the output)."
   ]
  },
  {
   "cell_type": "code",
   "execution_count": 45,
   "metadata": {},
   "outputs": [
    {
     "name": "stdout",
     "output_type": "stream",
     "text": [
      "b\"Bringing machine 'vm1' up with 'virtualbox' provider...\\nBringing machine 'vm2' up with 'virtualbox' provider...\\n==> vm1: Importing base box 'hashicorp/precise64'...\\n\\r\\x1b[KProgress: 40%\\r\\x1b[KProgress: 50%\\r\\x1b[KProgress: 60%\\r\\x1b[KProgress: 70%\\r\\x1b[KProgress: 80%\\r\\x1b[KProgress: 90%\\r\\x1b[K==> vm1: Matching MAC address for NAT networking...\\n==> vm1: Checking if box 'hashicorp/precise64' version '1.1.0' is up to date...\\n==> vm1: Setting the name of the VM: vm-setup_vm1_1568473601655_89661\\n==> vm1: Fixed port collision for 22 => 2222. Now on port 2200.\\n==> vm1: Clearing any previously set network interfaces...\\n==> vm1: Preparing network interfaces based on configuration...\\n    vm1: Adapter 1: nat\\n==> vm1: Forwarding ports...\\n    vm1: 22 (guest) => 2200 (host) (adapter 1)\\n==> vm1: Booting VM...\\n==> vm1: Waiting for machine to boot. This may take a few minutes...\\n    vm1: SSH address: 127.0.0.1:2200\\n    vm1: SSH username: vagrant\\n    vm1: SSH auth method: private key\\n    vm1: \\n    vm1: Vagrant insecure key detected. Vagrant will automatically replace\\n    vm1: this with a newly generated keypair for better security.\\n    vm1: \\n    vm1: Inserting generated public key within guest...\\n    vm1: Removing insecure key from the guest if it's present...\\n    vm1: Key inserted! Disconnecting and reconnecting using new SSH key...\\n==> vm1: Machine booted and ready!\\n==> vm1: Checking for guest additions in VM...\\n    vm1: The guest additions on this VM do not match the installed version of\\n    vm1: VirtualBox! In most cases this is fine, but in rare cases it can\\n    vm1: prevent things such as shared folders from working properly. If you see\\n    vm1: shared folder errors, please make sure the guest additions within the\\n    vm1: virtual machine match the version of VirtualBox you have installed on\\n    vm1: your host and reload your VM.\\n    vm1: \\n    vm1: Guest Additions Version: 4.2.0\\n    vm1: VirtualBox Version: 6.0\\n==> vm1: Mounting shared folders...\\n    vm1: /vagrant => /Users/Brian/sfs/vm-setup\\n==> vm1: Running provisioner: shell...\\n    vm1: Running: inline script\\n    vm1: Hello\\n==> vm2: Importing base box 'bento/centos-6.8'...\\n\\r\\x1b[KProgress: 10%\\r\\x1b[KProgress: 20%\\r\\x1b[KProgress: 40%\\r\\x1b[KProgress: 50%\\r\\x1b[KProgress: 60%\\r\\x1b[KProgress: 80%\\r\\x1b[KProgress: 90%\\r\\x1b[K==> vm2: Matching MAC address for NAT networking...\\n==> vm2: Checking if box 'bento/centos-6.8' version '2.3.4' is up to date...\\n==> vm2: Setting the name of the VM: vm-setup_vm2_1568473632558_46356\\n==> vm2: Fixed port collision for 22 => 2222. Now on port 2201.\\n==> vm2: Clearing any previously set network interfaces...\\n==> vm2: Preparing network interfaces based on configuration...\\n    vm2: Adapter 1: nat\\n==> vm2: Forwarding ports...\\n    vm2: 22 (guest) => 2201 (host) (adapter 1)\\n==> vm2: Booting VM...\\n==> vm2: Waiting for machine to boot. This may take a few minutes...\\n    vm2: SSH address: 127.0.0.1:2201\\n    vm2: SSH username: vagrant\\n    vm2: SSH auth method: private key\\n    vm2: \\n    vm2: Vagrant insecure key detected. Vagrant will automatically replace\\n    vm2: this with a newly generated keypair for better security.\\n    vm2: \\n    vm2: Inserting generated public key within guest...\\n    vm2: Removing insecure key from the guest if it's present...\\n    vm2: Key inserted! Disconnecting and reconnecting using new SSH key...\\n==> vm2: Machine booted and ready!\\n==> vm2: Checking for guest additions in VM...\\n    vm2: The guest additions on this VM do not match the installed version of\\n    vm2: VirtualBox! In most cases this is fine, but in rare cases it can\\n    vm2: prevent things such as shared folders from working properly. If you see\\n    vm2: shared folder errors, please make sure the guest additions within the\\n    vm2: virtual machine match the version of VirtualBox you have installed on\\n    vm2: your host and reload your VM.\\n    vm2: \\n    vm2: Guest Additions Version: 5.1.18\\n    vm2: VirtualBox Version: 6.0\\n==> vm2: Mounting shared folders...\\n    vm2: /vagrant => /Users/Brian/sfs/vm-setup\\n==> vm2: Running provisioner: shell...\\n    vm2: Running: inline script\\n    vm2: Hello\\n\"\n"
     ]
    }
   ],
   "source": [
    "import subprocess\n",
    "batcmd=\"vagrant up\"\n",
    "print(subprocess.check_output(batcmd, shell=True))"
   ]
  },
  {
   "cell_type": "markdown",
   "metadata": {},
   "source": [
    "Copy ssh key to known hosts, so a passwordless ssh is possible."
   ]
  },
  {
   "cell_type": "code",
   "execution_count": 63,
   "metadata": {},
   "outputs": [
    {
     "name": "stdout",
     "output_type": "stream",
     "text": [
      "b''\n",
      "b''\n"
     ]
    }
   ],
   "source": [
    "subprocess.check_output(\"curl -O -L http://downloads.sourceforge.net/project/sshpass/sshpass/1.05/sshpass-1.05.tar.gz && tar xvzf sshpass-1.05.tar.gz\", shell=True)\n",
    "subprocess.check_output(\"cd sshpass-1.05;./configure;make;make install;cd ../\", shell=True)\n",
    "print(subprocess.check_output(\"sshpass -p vagrant ssh-copy-id -p 2200 vagrant@127.0.0.1\", shell=True))\n",
    "print(subprocess.check_output(\"sshpass -p vagrant ssh-copy-id -p 2201 vagrant@127.0.0.1\", shell=True))"
   ]
  },
  {
   "cell_type": "markdown",
   "metadata": {},
   "source": [
    "Check if ssh login works. Note: second VM doesn't return a message."
   ]
  },
  {
   "cell_type": "code",
   "execution_count": 71,
   "metadata": {},
   "outputs": [
    {
     "name": "stdout",
     "output_type": "stream",
     "text": [
      "b\"Welcome to Ubuntu 12.04 LTS (GNU/Linux 3.2.0-23-generic x86_64)\\n\\n * Documentation:  https://help.ubuntu.com/\\nNew release '14.04.6 LTS' available.\\nRun 'do-release-upgrade' to upgrade to it.\\n\\nWelcome to your Vagrant-built virtual machine.\\n\"\n"
     ]
    }
   ],
   "source": [
    "print(subprocess.check_output(\"ssh -p 2200 vagrant@127.0.0.1\", shell=True))"
   ]
  },
  {
   "cell_type": "code",
   "execution_count": 72,
   "metadata": {},
   "outputs": [
    {
     "name": "stdout",
     "output_type": "stream",
     "text": [
      "b''\n"
     ]
    }
   ],
   "source": [
    "print(subprocess.check_output(\"ssh -p 2201 vagrant@127.0.0.1\", shell=True))"
   ]
  },
  {
   "cell_type": "markdown",
   "metadata": {},
   "source": [
    "Check ssh login with Ansible ping"
   ]
  },
  {
   "cell_type": "code",
   "execution_count": 56,
   "metadata": {},
   "outputs": [
    {
     "name": "stdout",
     "output_type": "stream",
     "text": [
      "b'jumper | SUCCESS => {\\n    \"ansible_facts\": {\\n        \"discovered_interpreter_python\": \"/usr/bin/python\"\\n    },\\n    \"changed\": false,\\n    \"ping\": \"pong\"\\n}\\n'\n"
     ]
    }
   ],
   "source": [
    "print(subprocess.check_output(\"ansible -m ping all\", shell=True))"
   ]
  },
  {
   "cell_type": "markdown",
   "metadata": {},
   "source": [
    "Install NodeJS on new VM with ansible"
   ]
  },
  {
   "cell_type": "code",
   "execution_count": 65,
   "metadata": {},
   "outputs": [
    {
     "name": "stdout",
     "output_type": "stream",
     "text": [
      "b'\\nPLAY [all] *********************************************************************\\n\\nTASK [Gathering Facts] *********************************************************\\nok: [jumper]\\n\\nTASK [basic : Installing NODE] *************************************************\\nok: [jumper]\\n\\nPLAY RECAP *********************************************************************\\njumper                     : ok=2    changed=0    unreachable=0    failed=0    skipped=0    rescued=0    ignored=0   \\n\\n'\n"
     ]
    }
   ],
   "source": [
    "print(subprocess.check_output(\"ansible-playbook -K playbook.yml\", shell=True))"
   ]
  },
  {
   "cell_type": "markdown",
   "metadata": {},
   "source": [
    "Check if node is installed on VMs"
   ]
  },
  {
   "cell_type": "code",
   "execution_count": 73,
   "metadata": {},
   "outputs": [
    {
     "name": "stdout",
     "output_type": "stream",
     "text": [
      "b'v10.15.2\\n'\n",
      "b'v10.15.2\\n'\n"
     ]
    }
   ],
   "source": [
    "subprocess.check_output(\"ssh -p 2200 vagrant@127.0.0.1\", shell=True)\n",
    "print(subprocess.check_output(\"node -v\", shell=True))\n",
    "subprocess.check_output(\"ssh -p 2201 vagrant@127.0.0.1\", shell=True)\n",
    "print(subprocess.check_output(\"node -v\", shell=True))"
   ]
  }
 ],
 "metadata": {
  "kernelspec": {
   "display_name": "Python 3",
   "language": "python",
   "name": "python3"
  },
  "language_info": {
   "codemirror_mode": {
    "name": "ipython",
    "version": 3
   },
   "file_extension": ".py",
   "mimetype": "text/x-python",
   "name": "python",
   "nbconvert_exporter": "python",
   "pygments_lexer": "ipython3",
   "version": "3.7.4"
  }
 },
 "nbformat": 4,
 "nbformat_minor": 2
}
